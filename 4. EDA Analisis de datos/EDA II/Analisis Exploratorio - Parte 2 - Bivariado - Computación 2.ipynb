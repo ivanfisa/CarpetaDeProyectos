{
 "cells": [
  {
   "cell_type": "markdown",
   "metadata": {},
   "source": [
    "<center> <h1>Universidad Nacional de San Agustín de Arequipa</h1> </center> \n",
    "<center> <h1>Escuela Profesional de Ingeniería de Telecomunicaciones</h1> </center> \n",
    "\n",
    "<center> <h1> </h1> </center> \n",
    "\n",
    "<center><img src=\"https://user-images.githubusercontent.com/19308295/115939517-f1c6fe80-a463-11eb-989c-812ab4942586.png\" width=\"380\" height=\"4200\"></center>"
   ]
  },
  {
   "cell_type": "markdown",
   "metadata": {},
   "source": [
    "<center> <h2>Ingeniero Renzo Bolivar - Docente DAIE</h2> </center> "
   ]
  },
  {
   "cell_type": "markdown",
   "metadata": {},
   "source": [
    "<center> <h2>Autor: Ivanovich Ciro Figueroa Salazar</h2> </center> "
   ]
  },
  {
   "cell_type": "markdown",
   "metadata": {},
   "source": [
    "<center> <h1>Curso : Computación 2</h1> </center> "
   ]
  },
  {
   "cell_type": "markdown",
   "metadata": {},
   "source": [
    "![linea 1](https://user-images.githubusercontent.com/19308295/115926252-2b8a0c00-a448-11eb-9d9c-b43beaf0ff68.png)"
   ]
  },
  {
   "cell_type": "markdown",
   "metadata": {},
   "source": [
    "<center> <h1>EDA BIVARIADO</h1> </center> "
   ]
  },
  {
   "cell_type": "markdown",
   "metadata": {},
   "source": [
    "![linea 1](https://user-images.githubusercontent.com/19308295/115926252-2b8a0c00-a448-11eb-9d9c-b43beaf0ff68.png)"
   ]
  },
  {
   "cell_type": "markdown",
   "metadata": {},
   "source": [
    "## <font color=#33A5FF>****1. Análisis Exploratorio de Datos - Practicamos Análisis Univariado****<tfont>"
   ]
  },
  {
   "cell_type": "markdown",
   "metadata": {},
   "source": [
    "## 1.1.- Cargamos los datos `German Credit`"
   ]
  },
  {
   "cell_type": "markdown",
   "metadata": {},
   "source": [
    "#### Librerías"
   ]
  },
  {
   "cell_type": "code",
   "execution_count": 1,
   "metadata": {},
   "outputs": [],
   "source": [
    "# importar las librerias\n",
    "import pandas as pd\n",
    "from qgrid import show_grid"
   ]
  },
  {
   "cell_type": "markdown",
   "metadata": {},
   "source": [
    "#### Archivo `csv`"
   ]
  },
  {
   "cell_type": "code",
   "execution_count": 2,
   "metadata": {},
   "outputs": [],
   "source": [
    "data = pd.read_csv('data/german_credit_data.csv')\n",
    "\n",
    "# Fuente: https://www.kaggle.com/uciml/german-credit"
   ]
  },
  {
   "cell_type": "code",
   "execution_count": 3,
   "metadata": {},
   "outputs": [
    {
     "data": {
      "application/vnd.jupyter.widget-view+json": {
       "model_id": "dee62b1b7c024c8a876cda1e574f0620",
       "version_major": 2,
       "version_minor": 0
      },
      "text/plain": [
       "QgridWidget(grid_options={'fullWidthRows': True, 'syncColumnCellResize': True, 'forceFitColumns': True, 'defau…"
      ]
     },
     "metadata": {},
     "output_type": "display_data"
    }
   ],
   "source": [
    "show_grid(data)"
   ]
  },
  {
   "cell_type": "markdown",
   "metadata": {},
   "source": [
    "## 1.2.- Estado de salud de un dataframe"
   ]
  },
  {
   "cell_type": "code",
   "execution_count": 4,
   "metadata": {},
   "outputs": [],
   "source": [
    "from funpymodeling.exploratory import freq_tbl, status, profiling_num"
   ]
  },
  {
   "cell_type": "code",
   "execution_count": 5,
   "metadata": {},
   "outputs": [
    {
     "data": {
      "text/html": [
       "<div>\n",
       "<style scoped>\n",
       "    .dataframe tbody tr th:only-of-type {\n",
       "        vertical-align: middle;\n",
       "    }\n",
       "\n",
       "    .dataframe tbody tr th {\n",
       "        vertical-align: top;\n",
       "    }\n",
       "\n",
       "    .dataframe thead th {\n",
       "        text-align: right;\n",
       "    }\n",
       "</style>\n",
       "<table border=\"1\" class=\"dataframe\">\n",
       "  <thead>\n",
       "    <tr style=\"text-align: right;\">\n",
       "      <th></th>\n",
       "      <th>variable</th>\n",
       "      <th>q_nan</th>\n",
       "      <th>p_nan</th>\n",
       "      <th>q_zeros</th>\n",
       "      <th>p_zeros</th>\n",
       "      <th>unique</th>\n",
       "      <th>type</th>\n",
       "    </tr>\n",
       "  </thead>\n",
       "  <tbody>\n",
       "    <tr>\n",
       "      <th>0</th>\n",
       "      <td>Age</td>\n",
       "      <td>0</td>\n",
       "      <td>0.000</td>\n",
       "      <td>0</td>\n",
       "      <td>0.000</td>\n",
       "      <td>53</td>\n",
       "      <td>int64</td>\n",
       "    </tr>\n",
       "    <tr>\n",
       "      <th>1</th>\n",
       "      <td>Sex</td>\n",
       "      <td>0</td>\n",
       "      <td>0.000</td>\n",
       "      <td>0</td>\n",
       "      <td>0.000</td>\n",
       "      <td>2</td>\n",
       "      <td>object</td>\n",
       "    </tr>\n",
       "    <tr>\n",
       "      <th>2</th>\n",
       "      <td>Job</td>\n",
       "      <td>0</td>\n",
       "      <td>0.000</td>\n",
       "      <td>22</td>\n",
       "      <td>0.022</td>\n",
       "      <td>4</td>\n",
       "      <td>int64</td>\n",
       "    </tr>\n",
       "    <tr>\n",
       "      <th>3</th>\n",
       "      <td>Housing</td>\n",
       "      <td>0</td>\n",
       "      <td>0.000</td>\n",
       "      <td>0</td>\n",
       "      <td>0.000</td>\n",
       "      <td>3</td>\n",
       "      <td>object</td>\n",
       "    </tr>\n",
       "    <tr>\n",
       "      <th>4</th>\n",
       "      <td>Saving_accounts</td>\n",
       "      <td>183</td>\n",
       "      <td>0.183</td>\n",
       "      <td>0</td>\n",
       "      <td>0.000</td>\n",
       "      <td>4</td>\n",
       "      <td>object</td>\n",
       "    </tr>\n",
       "    <tr>\n",
       "      <th>5</th>\n",
       "      <td>Checking_account</td>\n",
       "      <td>394</td>\n",
       "      <td>0.394</td>\n",
       "      <td>0</td>\n",
       "      <td>0.000</td>\n",
       "      <td>3</td>\n",
       "      <td>object</td>\n",
       "    </tr>\n",
       "    <tr>\n",
       "      <th>6</th>\n",
       "      <td>Credit_amount</td>\n",
       "      <td>0</td>\n",
       "      <td>0.000</td>\n",
       "      <td>0</td>\n",
       "      <td>0.000</td>\n",
       "      <td>921</td>\n",
       "      <td>int64</td>\n",
       "    </tr>\n",
       "    <tr>\n",
       "      <th>7</th>\n",
       "      <td>Duration</td>\n",
       "      <td>0</td>\n",
       "      <td>0.000</td>\n",
       "      <td>0</td>\n",
       "      <td>0.000</td>\n",
       "      <td>33</td>\n",
       "      <td>int64</td>\n",
       "    </tr>\n",
       "    <tr>\n",
       "      <th>8</th>\n",
       "      <td>Purpose</td>\n",
       "      <td>0</td>\n",
       "      <td>0.000</td>\n",
       "      <td>0</td>\n",
       "      <td>0.000</td>\n",
       "      <td>8</td>\n",
       "      <td>object</td>\n",
       "    </tr>\n",
       "    <tr>\n",
       "      <th>9</th>\n",
       "      <td>Risk</td>\n",
       "      <td>0</td>\n",
       "      <td>0.000</td>\n",
       "      <td>0</td>\n",
       "      <td>0.000</td>\n",
       "      <td>2</td>\n",
       "      <td>object</td>\n",
       "    </tr>\n",
       "  </tbody>\n",
       "</table>\n",
       "</div>"
      ],
      "text/plain": [
       "           variable  q_nan  p_nan  q_zeros  p_zeros  unique    type\n",
       "0               Age      0  0.000        0    0.000      53   int64\n",
       "1               Sex      0  0.000        0    0.000       2  object\n",
       "2               Job      0  0.000       22    0.022       4   int64\n",
       "3           Housing      0  0.000        0    0.000       3  object\n",
       "4   Saving_accounts    183  0.183        0    0.000       4  object\n",
       "5  Checking_account    394  0.394        0    0.000       3  object\n",
       "6     Credit_amount      0  0.000        0    0.000     921   int64\n",
       "7          Duration      0  0.000        0    0.000      33   int64\n",
       "8           Purpose      0  0.000        0    0.000       8  object\n",
       "9              Risk      0  0.000        0    0.000       2  object"
      ]
     },
     "execution_count": 5,
     "metadata": {},
     "output_type": "execute_result"
    }
   ],
   "source": [
    "#Saving_accounts = Cuenta de Ahorros, Checking_acoount = cuenta de cheques\n",
    "status(data)"
   ]
  },
  {
   "cell_type": "markdown",
   "metadata": {},
   "source": [
    "## 1.3.- Variables Numéricas"
   ]
  },
  {
   "cell_type": "markdown",
   "metadata": {},
   "source": [
    "### Graficos/Histogramas"
   ]
  },
  {
   "cell_type": "code",
   "execution_count": 6,
   "metadata": {},
   "outputs": [
    {
     "data": {
      "text/plain": [
       "array([[<AxesSubplot:title={'center':'Age'}>,\n",
       "        <AxesSubplot:title={'center':'Job'}>],\n",
       "       [<AxesSubplot:title={'center':'Credit_amount'}>,\n",
       "        <AxesSubplot:title={'center':'Duration'}>]], dtype=object)"
      ]
     },
     "execution_count": 6,
     "metadata": {},
     "output_type": "execute_result"
    },
    {
     "data": {
      "image/png": "[encoded data removed]",
      "text/plain": [
       "<Figure size 720x720 with 4 Axes>"
      ]
     },
     "metadata": {
      "needs_background": "light"
     },
     "output_type": "display_data"
    }
   ],
   "source": [
    "data.hist(figsize = (10,10))"
   ]
  },
  {
   "cell_type": "markdown",
   "metadata": {},
   "source": [
    "#### De librería `funPyModeling` -  `profiling_num` Estadística mejorada"
   ]
  },
  {
   "cell_type": "code",
   "execution_count": 7,
   "metadata": {},
   "outputs": [
    {
     "data": {
      "text/html": [
       "<div>\n",
       "<style scoped>\n",
       "    .dataframe tbody tr th:only-of-type {\n",
       "        vertical-align: middle;\n",
       "    }\n",
       "\n",
       "    .dataframe tbody tr th {\n",
       "        vertical-align: top;\n",
       "    }\n",
       "\n",
       "    .dataframe thead th {\n",
       "        text-align: right;\n",
       "    }\n",
       "</style>\n",
       "<table border=\"1\" class=\"dataframe\">\n",
       "  <thead>\n",
       "    <tr style=\"text-align: right;\">\n",
       "      <th></th>\n",
       "      <th>variable</th>\n",
       "      <th>q_nan</th>\n",
       "      <th>p_nan</th>\n",
       "      <th>q_zeros</th>\n",
       "      <th>p_zeros</th>\n",
       "      <th>unique</th>\n",
       "      <th>type</th>\n",
       "    </tr>\n",
       "  </thead>\n",
       "  <tbody>\n",
       "    <tr>\n",
       "      <th>0</th>\n",
       "      <td>Job</td>\n",
       "      <td>0</td>\n",
       "      <td>0.0</td>\n",
       "      <td>0</td>\n",
       "      <td>0.0</td>\n",
       "      <td>4</td>\n",
       "      <td>object</td>\n",
       "    </tr>\n",
       "  </tbody>\n",
       "</table>\n",
       "</div>"
      ],
      "text/plain": [
       "  variable  q_nan  p_nan  q_zeros  p_zeros  unique    type\n",
       "0      Job      0    0.0        0      0.0       4  object"
      ]
     },
     "execution_count": 7,
     "metadata": {},
     "output_type": "execute_result"
    }
   ],
   "source": [
    "data['Job'] = data['Job'].astype('str')\n",
    "status(data['Job'])"
   ]
  },
  {
   "cell_type": "markdown",
   "metadata": {},
   "source": [
    "### Análisis cuantitativo / descripción estadística:"
   ]
  },
  {
   "cell_type": "code",
   "execution_count": 8,
   "metadata": {},
   "outputs": [
    {
     "data": {
      "text/html": [
       "<div>\n",
       "<style scoped>\n",
       "    .dataframe tbody tr th:only-of-type {\n",
       "        vertical-align: middle;\n",
       "    }\n",
       "\n",
       "    .dataframe tbody tr th {\n",
       "        vertical-align: top;\n",
       "    }\n",
       "\n",
       "    .dataframe thead th {\n",
       "        text-align: right;\n",
       "    }\n",
       "</style>\n",
       "<table border=\"1\" class=\"dataframe\">\n",
       "  <thead>\n",
       "    <tr style=\"text-align: right;\">\n",
       "      <th></th>\n",
       "      <th>variable</th>\n",
       "      <th>mean</th>\n",
       "      <th>std_dev</th>\n",
       "      <th>variation_coef</th>\n",
       "      <th>p_0.01</th>\n",
       "      <th>p_0.05</th>\n",
       "      <th>p_0.25</th>\n",
       "      <th>p_0.5</th>\n",
       "      <th>p_0.75</th>\n",
       "      <th>p_0.95</th>\n",
       "      <th>p_0.99</th>\n",
       "    </tr>\n",
       "  </thead>\n",
       "  <tbody>\n",
       "    <tr>\n",
       "      <th>0</th>\n",
       "      <td>Age</td>\n",
       "      <td>35.546</td>\n",
       "      <td>11.375469</td>\n",
       "      <td>0.320021</td>\n",
       "      <td>20.00</td>\n",
       "      <td>22.00</td>\n",
       "      <td>27.0</td>\n",
       "      <td>33.0</td>\n",
       "      <td>42.00</td>\n",
       "      <td>60.0</td>\n",
       "      <td>67.01</td>\n",
       "    </tr>\n",
       "    <tr>\n",
       "      <th>1</th>\n",
       "      <td>Credit_amount</td>\n",
       "      <td>3271.258</td>\n",
       "      <td>2822.736876</td>\n",
       "      <td>0.862890</td>\n",
       "      <td>425.83</td>\n",
       "      <td>708.95</td>\n",
       "      <td>1365.5</td>\n",
       "      <td>2319.5</td>\n",
       "      <td>3972.25</td>\n",
       "      <td>9162.7</td>\n",
       "      <td>14180.39</td>\n",
       "    </tr>\n",
       "    <tr>\n",
       "      <th>2</th>\n",
       "      <td>Duration</td>\n",
       "      <td>20.903</td>\n",
       "      <td>12.058814</td>\n",
       "      <td>0.576894</td>\n",
       "      <td>6.00</td>\n",
       "      <td>6.00</td>\n",
       "      <td>12.0</td>\n",
       "      <td>18.0</td>\n",
       "      <td>24.00</td>\n",
       "      <td>48.0</td>\n",
       "      <td>60.00</td>\n",
       "    </tr>\n",
       "  </tbody>\n",
       "</table>\n",
       "</div>"
      ],
      "text/plain": [
       "        variable      mean      std_dev  variation_coef  p_0.01  p_0.05  \\\n",
       "0            Age    35.546    11.375469        0.320021   20.00   22.00   \n",
       "1  Credit_amount  3271.258  2822.736876        0.862890  425.83  708.95   \n",
       "2       Duration    20.903    12.058814        0.576894    6.00    6.00   \n",
       "\n",
       "   p_0.25   p_0.5   p_0.75  p_0.95    p_0.99  \n",
       "0    27.0    33.0    42.00    60.0     67.01  \n",
       "1  1365.5  2319.5  3972.25  9162.7  14180.39  \n",
       "2    12.0    18.0    24.00    48.0     60.00  "
      ]
     },
     "execution_count": 8,
     "metadata": {},
     "output_type": "execute_result"
    }
   ],
   "source": [
    "#variation_coef ==>>> nos indica que no hay outliners(valores atipicos)\n",
    "profiling_num(data)"
   ]
  },
  {
   "cell_type": "markdown",
   "metadata": {},
   "source": [
    "---"
   ]
  },
  {
   "cell_type": "markdown",
   "metadata": {},
   "source": [
    "## 1.4.- Análisis de Variables Categóricas"
   ]
  },
  {
   "cell_type": "markdown",
   "metadata": {},
   "source": [
    "### Funcion `freq_tbl` de `funpymodeling`"
   ]
  },
  {
   "cell_type": "code",
   "execution_count": 9,
   "metadata": {},
   "outputs": [
    {
     "data": {
      "text/html": [
       "<div>\n",
       "<style scoped>\n",
       "    .dataframe tbody tr th:only-of-type {\n",
       "        vertical-align: middle;\n",
       "    }\n",
       "\n",
       "    .dataframe tbody tr th {\n",
       "        vertical-align: top;\n",
       "    }\n",
       "\n",
       "    .dataframe thead th {\n",
       "        text-align: right;\n",
       "    }\n",
       "</style>\n",
       "<table border=\"1\" class=\"dataframe\">\n",
       "  <thead>\n",
       "    <tr style=\"text-align: right;\">\n",
       "      <th></th>\n",
       "      <th>Job</th>\n",
       "      <th>frequency</th>\n",
       "      <th>percentage</th>\n",
       "      <th>cumulative_perc</th>\n",
       "    </tr>\n",
       "  </thead>\n",
       "  <tbody>\n",
       "    <tr>\n",
       "      <th>0</th>\n",
       "      <td>2</td>\n",
       "      <td>630</td>\n",
       "      <td>0.630</td>\n",
       "      <td>0.630</td>\n",
       "    </tr>\n",
       "    <tr>\n",
       "      <th>1</th>\n",
       "      <td>1</td>\n",
       "      <td>200</td>\n",
       "      <td>0.200</td>\n",
       "      <td>0.830</td>\n",
       "    </tr>\n",
       "    <tr>\n",
       "      <th>2</th>\n",
       "      <td>3</td>\n",
       "      <td>148</td>\n",
       "      <td>0.148</td>\n",
       "      <td>0.978</td>\n",
       "    </tr>\n",
       "    <tr>\n",
       "      <th>3</th>\n",
       "      <td>0</td>\n",
       "      <td>22</td>\n",
       "      <td>0.022</td>\n",
       "      <td>1.000</td>\n",
       "    </tr>\n",
       "  </tbody>\n",
       "</table>\n",
       "</div>"
      ],
      "text/plain": [
       "  Job  frequency  percentage  cumulative_perc\n",
       "0   2        630       0.630            0.630\n",
       "1   1        200       0.200            0.830\n",
       "2   3        148       0.148            0.978\n",
       "3   0         22       0.022            1.000"
      ]
     },
     "execution_count": 9,
     "metadata": {},
     "output_type": "execute_result"
    }
   ],
   "source": [
    "#funcion admite variables categoricas\n",
    "freq_tbl(data['Job'])"
   ]
  },
  {
   "cell_type": "code",
   "execution_count": 10,
   "metadata": {},
   "outputs": [
    {
     "name": "stdout",
     "output_type": "stream",
     "text": [
      "      Sex  frequency  percentage  cumulative_perc\n",
      "0    male        690        0.69             0.69\n",
      "1  female        310        0.31             1.00\n",
      "\n",
      "----------------------------------------------------------------\n",
      "\n",
      "  Job  frequency  percentage  cumulative_perc\n",
      "0   2        630       0.630            0.630\n",
      "1   1        200       0.200            0.830\n",
      "2   3        148       0.148            0.978\n",
      "3   0         22       0.022            1.000\n",
      "\n",
      "----------------------------------------------------------------\n",
      "\n",
      "  Housing  frequency  percentage  cumulative_perc\n",
      "0     own        713       0.713            0.713\n",
      "1    rent        179       0.179            0.892\n",
      "2    free        108       0.108            1.000\n",
      "\n",
      "----------------------------------------------------------------\n",
      "\n",
      "  Saving_accounts  frequency  percentage  cumulative_perc\n",
      "0          little        603       0.603         0.738066\n",
      "1        moderate        103       0.103         0.864137\n",
      "2      quite rich         63       0.063         0.941248\n",
      "3            rich         48       0.048         1.000000\n",
      "\n",
      "----------------------------------------------------------------\n",
      "\n",
      "  Checking_account  frequency  percentage  cumulative_perc\n",
      "0           little        274       0.274         0.452145\n",
      "1         moderate        269       0.269         0.896040\n",
      "2             rich         63       0.063         1.000000\n",
      "\n",
      "----------------------------------------------------------------\n",
      "\n",
      "               Purpose  frequency  percentage  cumulative_perc\n",
      "0                  car        337       0.337            0.337\n",
      "1             radio/TV        280       0.280            0.617\n",
      "2  furniture/equipment        181       0.181            0.798\n",
      "3             business         97       0.097            0.895\n",
      "4            education         59       0.059            0.954\n",
      "5              repairs         22       0.022            0.976\n",
      "6  domestic appliances         12       0.012            0.988\n",
      "7      vacation/others         12       0.012            1.000\n",
      "\n",
      "----------------------------------------------------------------\n",
      "\n",
      "   Risk  frequency  percentage  cumulative_perc\n",
      "0  good        700         0.7              0.7\n",
      "1   bad        300         0.3              1.0\n",
      "\n",
      "----------------------------------------------------------------\n",
      "\n"
     ]
    }
   ],
   "source": [
    "freq_tbl(data)"
   ]
  },
  {
   "cell_type": "markdown",
   "metadata": {},
   "source": [
    "### Graficos de barras"
   ]
  },
  {
   "cell_type": "code",
   "execution_count": 11,
   "metadata": {},
   "outputs": [],
   "source": [
    "from funpymodeling.exploratory import cat_vars, num_vars"
   ]
  },
  {
   "cell_type": "code",
   "execution_count": 12,
   "metadata": {},
   "outputs": [
    {
     "data": {
      "image/png": "[encoded data removed]",
      "text/plain": [
       "<Figure size 1440x1440 with 8 Axes>"
      ]
     },
     "metadata": {
      "needs_background": "light"
     },
     "output_type": "display_data"
    }
   ],
   "source": [
    "# Esta funcion estara en funpymodeling como freq() o plot_freq()\n",
    "# NOTA: antes de usar este script, saquen las variables que tienen mas de 100 categorias distintas\n",
    "import matplotlib.pyplot as plt\n",
    "import seaborn as sns\n",
    "\n",
    "d_plot = data\n",
    "fig, ax = plt.subplots(4, 2, figsize = (20, 20))\n",
    "for variable, subplot in zip(cat_vars(d_plot), ax.flatten()):\n",
    "    sns.countplot(y = d_plot[variable], ax=subplot, order = d_plot[variable].value_counts().index)\n",
    "    for label in subplot.get_xticklabels():\n",
    "        label.set_rotation(90)"
   ]
  },
  {
   "cell_type": "markdown",
   "metadata": {},
   "source": [
    "## <font color=#33A5FF>****2. Análisis Exploratorio de Datos - Analisis Bivariado****<tfont>"
   ]
  },
  {
   "cell_type": "markdown",
   "metadata": {},
   "source": [
    "### ¿Cual es la relacion entre \"saving accounts\" y \"housing\"? (ahorros vs posee casa)"
   ]
  },
  {
   "cell_type": "markdown",
   "metadata": {},
   "source": [
    "## 2.A. Categórica vs categorica"
   ]
  },
  {
   "cell_type": "markdown",
   "metadata": {},
   "source": [
    "#### Utilizamos pandas `pd.crosstab(v1, v2)`"
   ]
  },
  {
   "cell_type": "code",
   "execution_count": 13,
   "metadata": {},
   "outputs": [
    {
     "data": {
      "text/html": [
       "<div>\n",
       "<style scoped>\n",
       "    .dataframe tbody tr th:only-of-type {\n",
       "        vertical-align: middle;\n",
       "    }\n",
       "\n",
       "    .dataframe tbody tr th {\n",
       "        vertical-align: top;\n",
       "    }\n",
       "\n",
       "    .dataframe thead th {\n",
       "        text-align: right;\n",
       "    }\n",
       "</style>\n",
       "<table border=\"1\" class=\"dataframe\">\n",
       "  <thead>\n",
       "    <tr style=\"text-align: right;\">\n",
       "      <th>Risk</th>\n",
       "      <th>bad</th>\n",
       "      <th>good</th>\n",
       "    </tr>\n",
       "    <tr>\n",
       "      <th>Saving_accounts</th>\n",
       "      <th></th>\n",
       "      <th></th>\n",
       "    </tr>\n",
       "  </thead>\n",
       "  <tbody>\n",
       "    <tr>\n",
       "      <th>little</th>\n",
       "      <td>217</td>\n",
       "      <td>386</td>\n",
       "    </tr>\n",
       "    <tr>\n",
       "      <th>moderate</th>\n",
       "      <td>34</td>\n",
       "      <td>69</td>\n",
       "    </tr>\n",
       "    <tr>\n",
       "      <th>quite rich</th>\n",
       "      <td>11</td>\n",
       "      <td>52</td>\n",
       "    </tr>\n",
       "    <tr>\n",
       "      <th>rich</th>\n",
       "      <td>6</td>\n",
       "      <td>42</td>\n",
       "    </tr>\n",
       "  </tbody>\n",
       "</table>\n",
       "</div>"
      ],
      "text/plain": [
       "Risk             bad  good\n",
       "Saving_accounts           \n",
       "little           217   386\n",
       "moderate          34    69\n",
       "quite rich        11    52\n",
       "rich               6    42"
      ]
     },
     "execution_count": 13,
     "metadata": {},
     "output_type": "execute_result"
    }
   ],
   "source": [
    "pd.crosstab(data.Saving_accounts, data.Risk)"
   ]
  },
  {
   "cell_type": "code",
   "execution_count": 14,
   "metadata": {},
   "outputs": [
    {
     "data": {
      "text/html": [
       "<div>\n",
       "<style scoped>\n",
       "    .dataframe tbody tr th:only-of-type {\n",
       "        vertical-align: middle;\n",
       "    }\n",
       "\n",
       "    .dataframe tbody tr th {\n",
       "        vertical-align: top;\n",
       "    }\n",
       "\n",
       "    .dataframe thead th {\n",
       "        text-align: right;\n",
       "    }\n",
       "</style>\n",
       "<table border=\"1\" class=\"dataframe\">\n",
       "  <thead>\n",
       "    <tr style=\"text-align: right;\">\n",
       "      <th>Risk</th>\n",
       "      <th>bad</th>\n",
       "      <th>good</th>\n",
       "      <th>All</th>\n",
       "    </tr>\n",
       "    <tr>\n",
       "      <th>Saving_accounts</th>\n",
       "      <th></th>\n",
       "      <th></th>\n",
       "      <th></th>\n",
       "    </tr>\n",
       "  </thead>\n",
       "  <tbody>\n",
       "    <tr>\n",
       "      <th>little</th>\n",
       "      <td>217</td>\n",
       "      <td>386</td>\n",
       "      <td>603</td>\n",
       "    </tr>\n",
       "    <tr>\n",
       "      <th>moderate</th>\n",
       "      <td>34</td>\n",
       "      <td>69</td>\n",
       "      <td>103</td>\n",
       "    </tr>\n",
       "    <tr>\n",
       "      <th>quite rich</th>\n",
       "      <td>11</td>\n",
       "      <td>52</td>\n",
       "      <td>63</td>\n",
       "    </tr>\n",
       "    <tr>\n",
       "      <th>rich</th>\n",
       "      <td>6</td>\n",
       "      <td>42</td>\n",
       "      <td>48</td>\n",
       "    </tr>\n",
       "    <tr>\n",
       "      <th>All</th>\n",
       "      <td>268</td>\n",
       "      <td>549</td>\n",
       "      <td>817</td>\n",
       "    </tr>\n",
       "  </tbody>\n",
       "</table>\n",
       "</div>"
      ],
      "text/plain": [
       "Risk             bad  good  All\n",
       "Saving_accounts                \n",
       "little           217   386  603\n",
       "moderate          34    69  103\n",
       "quite rich        11    52   63\n",
       "rich               6    42   48\n",
       "All              268   549  817"
      ]
     },
     "execution_count": 14,
     "metadata": {},
     "output_type": "execute_result"
    }
   ],
   "source": [
    "pd.crosstab(data.Saving_accounts, data.Risk, margins = True)"
   ]
  },
  {
   "cell_type": "markdown",
   "metadata": {},
   "source": [
    "### Porcentajes totales (suma de celdas 100%)"
   ]
  },
  {
   "cell_type": "code",
   "execution_count": 15,
   "metadata": {},
   "outputs": [
    {
     "data": {
      "text/html": [
       "<div>\n",
       "<style scoped>\n",
       "    .dataframe tbody tr th:only-of-type {\n",
       "        vertical-align: middle;\n",
       "    }\n",
       "\n",
       "    .dataframe tbody tr th {\n",
       "        vertical-align: top;\n",
       "    }\n",
       "\n",
       "    .dataframe thead th {\n",
       "        text-align: right;\n",
       "    }\n",
       "</style>\n",
       "<table border=\"1\" class=\"dataframe\">\n",
       "  <thead>\n",
       "    <tr style=\"text-align: right;\">\n",
       "      <th>Risk</th>\n",
       "      <th>bad</th>\n",
       "      <th>good</th>\n",
       "    </tr>\n",
       "    <tr>\n",
       "      <th>Saving_accounts</th>\n",
       "      <th></th>\n",
       "      <th></th>\n",
       "    </tr>\n",
       "  </thead>\n",
       "  <tbody>\n",
       "    <tr>\n",
       "      <th>little</th>\n",
       "      <td>0.265606</td>\n",
       "      <td>0.472460</td>\n",
       "    </tr>\n",
       "    <tr>\n",
       "      <th>moderate</th>\n",
       "      <td>0.041616</td>\n",
       "      <td>0.084455</td>\n",
       "    </tr>\n",
       "    <tr>\n",
       "      <th>quite rich</th>\n",
       "      <td>0.013464</td>\n",
       "      <td>0.063647</td>\n",
       "    </tr>\n",
       "    <tr>\n",
       "      <th>rich</th>\n",
       "      <td>0.007344</td>\n",
       "      <td>0.051408</td>\n",
       "    </tr>\n",
       "  </tbody>\n",
       "</table>\n",
       "</div>"
      ],
      "text/plain": [
       "Risk                  bad      good\n",
       "Saving_accounts                    \n",
       "little           0.265606  0.472460\n",
       "moderate         0.041616  0.084455\n",
       "quite rich       0.013464  0.063647\n",
       "rich             0.007344  0.051408"
      ]
     },
     "execution_count": 15,
     "metadata": {},
     "output_type": "execute_result"
    }
   ],
   "source": [
    "pd.crosstab(data.Saving_accounts, data.Risk, normalize = True)"
   ]
  },
  {
   "cell_type": "markdown",
   "metadata": {},
   "source": [
    "### Porcentajes por registro (util para seleccion de variables)"
   ]
  },
  {
   "cell_type": "code",
   "execution_count": 16,
   "metadata": {},
   "outputs": [
    {
     "data": {
      "text/html": [
       "<div>\n",
       "<style scoped>\n",
       "    .dataframe tbody tr th:only-of-type {\n",
       "        vertical-align: middle;\n",
       "    }\n",
       "\n",
       "    .dataframe tbody tr th {\n",
       "        vertical-align: top;\n",
       "    }\n",
       "\n",
       "    .dataframe thead th {\n",
       "        text-align: right;\n",
       "    }\n",
       "</style>\n",
       "<table border=\"1\" class=\"dataframe\">\n",
       "  <thead>\n",
       "    <tr style=\"text-align: right;\">\n",
       "      <th>Risk</th>\n",
       "      <th>bad</th>\n",
       "      <th>good</th>\n",
       "    </tr>\n",
       "    <tr>\n",
       "      <th>Saving_accounts</th>\n",
       "      <th></th>\n",
       "      <th></th>\n",
       "    </tr>\n",
       "  </thead>\n",
       "  <tbody>\n",
       "    <tr>\n",
       "      <th>little</th>\n",
       "      <td>0.359867</td>\n",
       "      <td>0.640133</td>\n",
       "    </tr>\n",
       "    <tr>\n",
       "      <th>moderate</th>\n",
       "      <td>0.330097</td>\n",
       "      <td>0.669903</td>\n",
       "    </tr>\n",
       "    <tr>\n",
       "      <th>quite rich</th>\n",
       "      <td>0.174603</td>\n",
       "      <td>0.825397</td>\n",
       "    </tr>\n",
       "    <tr>\n",
       "      <th>rich</th>\n",
       "      <td>0.125000</td>\n",
       "      <td>0.875000</td>\n",
       "    </tr>\n",
       "    <tr>\n",
       "      <th>All</th>\n",
       "      <td>0.328029</td>\n",
       "      <td>0.671971</td>\n",
       "    </tr>\n",
       "  </tbody>\n",
       "</table>\n",
       "</div>"
      ],
      "text/plain": [
       "Risk                  bad      good\n",
       "Saving_accounts                    \n",
       "little           0.359867  0.640133\n",
       "moderate         0.330097  0.669903\n",
       "quite rich       0.174603  0.825397\n",
       "rich             0.125000  0.875000\n",
       "All              0.328029  0.671971"
      ]
     },
     "execution_count": 16,
     "metadata": {},
     "output_type": "execute_result"
    }
   ],
   "source": [
    "pd.crosstab(data.Saving_accounts, data.Risk, normalize='index', margins=True)"
   ]
  },
  {
   "cell_type": "markdown",
   "metadata": {},
   "source": [
    "<div class=\"alert alert-info\">\n",
    "\n",
    "  En esta etápa se realiza el análisis de:\n",
    "\n",
    "    \n",
    "    \n",
    " <strong>Nota:</strong> Se uso la notacion de punto como simple demostracion, de ahora en más se usará la notacion de corchetes por dos motivos: En vez de `data.Risk`, usar `data['Risk`]. Son mas caracteres de tipeo pero se estandariza el codigo.\n",
    "    \n",
    "- No se puede usar para crear <strong>crear columnas nuevas</strong>\n",
    "- No funciona si las <strong>variables tienen espacios</strong>\n",
    "  \n",
    "    \n",
    "</div>"
   ]
  },
  {
   "cell_type": "markdown",
   "metadata": {},
   "source": [
    "### Evitar sesgos por representatividad (caso rich):"
   ]
  },
  {
   "cell_type": "code",
   "execution_count": 17,
   "metadata": {},
   "outputs": [
    {
     "data": {
      "text/html": [
       "<div>\n",
       "<style scoped>\n",
       "    .dataframe tbody tr th:only-of-type {\n",
       "        vertical-align: middle;\n",
       "    }\n",
       "\n",
       "    .dataframe tbody tr th {\n",
       "        vertical-align: top;\n",
       "    }\n",
       "\n",
       "    .dataframe thead th {\n",
       "        text-align: right;\n",
       "    }\n",
       "</style>\n",
       "<table border=\"1\" class=\"dataframe\">\n",
       "  <thead>\n",
       "    <tr style=\"text-align: right;\">\n",
       "      <th>Risk</th>\n",
       "      <th>bad</th>\n",
       "      <th>good</th>\n",
       "      <th>All</th>\n",
       "    </tr>\n",
       "    <tr>\n",
       "      <th>Saving_accounts</th>\n",
       "      <th></th>\n",
       "      <th></th>\n",
       "      <th></th>\n",
       "    </tr>\n",
       "  </thead>\n",
       "  <tbody>\n",
       "    <tr>\n",
       "      <th>little</th>\n",
       "      <td>0.265606</td>\n",
       "      <td>0.472460</td>\n",
       "      <td>0.738066</td>\n",
       "    </tr>\n",
       "    <tr>\n",
       "      <th>moderate</th>\n",
       "      <td>0.041616</td>\n",
       "      <td>0.084455</td>\n",
       "      <td>0.126071</td>\n",
       "    </tr>\n",
       "    <tr>\n",
       "      <th>quite rich</th>\n",
       "      <td>0.013464</td>\n",
       "      <td>0.063647</td>\n",
       "      <td>0.077111</td>\n",
       "    </tr>\n",
       "    <tr>\n",
       "      <th>rich</th>\n",
       "      <td>0.007344</td>\n",
       "      <td>0.051408</td>\n",
       "      <td>0.058752</td>\n",
       "    </tr>\n",
       "    <tr>\n",
       "      <th>All</th>\n",
       "      <td>0.328029</td>\n",
       "      <td>0.671971</td>\n",
       "      <td>1.000000</td>\n",
       "    </tr>\n",
       "  </tbody>\n",
       "</table>\n",
       "</div>"
      ],
      "text/plain": [
       "Risk                  bad      good       All\n",
       "Saving_accounts                              \n",
       "little           0.265606  0.472460  0.738066\n",
       "moderate         0.041616  0.084455  0.126071\n",
       "quite rich       0.013464  0.063647  0.077111\n",
       "rich             0.007344  0.051408  0.058752\n",
       "All              0.328029  0.671971  1.000000"
      ]
     },
     "execution_count": 17,
     "metadata": {},
     "output_type": "execute_result"
    }
   ],
   "source": [
    "#analisis de respresentatividad:\n",
    "pd.crosstab(data['Saving_accounts'], data['Risk'], margins=True, normalize = True)"
   ]
  },
  {
   "cell_type": "markdown",
   "metadata": {},
   "source": [
    "## 2.B. Analisis numerica vs categorica"
   ]
  },
  {
   "cell_type": "markdown",
   "metadata": {},
   "source": [
    "### ¿Cambia la edad de acuerdo al proposito de credito?"
   ]
  },
  {
   "cell_type": "code",
   "execution_count": 18,
   "metadata": {},
   "outputs": [
    {
     "data": {
      "text/plain": [
       "Purpose\n",
       "business               35.484536\n",
       "car                    37.139466\n",
       "domestic appliances    34.250000\n",
       "education              38.288136\n",
       "furniture/equipment    32.458564\n",
       "radio/TV               34.700000\n",
       "repairs                38.545455\n",
       "vacation/others        39.916667\n",
       "Name: Age, dtype: float64"
      ]
     },
     "execution_count": 18,
     "metadata": {},
     "output_type": "execute_result"
    }
   ],
   "source": [
    "data.groupby('Purpose')['Age'].mean()"
   ]
  },
  {
   "cell_type": "code",
   "execution_count": 19,
   "metadata": {},
   "outputs": [
    {
     "data": {
      "text/plain": [
       "Purpose\n",
       "vacation/others        39.916667\n",
       "repairs                38.545455\n",
       "education              38.288136\n",
       "car                    37.139466\n",
       "business               35.484536\n",
       "radio/TV               34.700000\n",
       "domestic appliances    34.250000\n",
       "furniture/equipment    32.458564\n",
       "Name: Age, dtype: float64"
      ]
     },
     "execution_count": 19,
     "metadata": {},
     "output_type": "execute_result"
    }
   ],
   "source": [
    "#ordenar los valores\n",
    "data.groupby('Purpose')['Age'].mean().sort_values(ascending=False)"
   ]
  },
  {
   "cell_type": "markdown",
   "metadata": {},
   "source": [
    "### Un análisis detallado"
   ]
  },
  {
   "cell_type": "code",
   "execution_count": 20,
   "metadata": {},
   "outputs": [
    {
     "data": {
      "text/html": [
       "<div>\n",
       "<style scoped>\n",
       "    .dataframe tbody tr th:only-of-type {\n",
       "        vertical-align: middle;\n",
       "    }\n",
       "\n",
       "    .dataframe tbody tr th {\n",
       "        vertical-align: top;\n",
       "    }\n",
       "\n",
       "    .dataframe thead th {\n",
       "        text-align: right;\n",
       "    }\n",
       "</style>\n",
       "<table border=\"1\" class=\"dataframe\">\n",
       "  <thead>\n",
       "    <tr style=\"text-align: right;\">\n",
       "      <th></th>\n",
       "      <th>count</th>\n",
       "      <th>mean</th>\n",
       "      <th>std</th>\n",
       "      <th>min</th>\n",
       "      <th>25%</th>\n",
       "      <th>50%</th>\n",
       "      <th>75%</th>\n",
       "      <th>max</th>\n",
       "    </tr>\n",
       "    <tr>\n",
       "      <th>Purpose</th>\n",
       "      <th></th>\n",
       "      <th></th>\n",
       "      <th></th>\n",
       "      <th></th>\n",
       "      <th></th>\n",
       "      <th></th>\n",
       "      <th></th>\n",
       "      <th></th>\n",
       "    </tr>\n",
       "  </thead>\n",
       "  <tbody>\n",
       "    <tr>\n",
       "      <th>business</th>\n",
       "      <td>97.0</td>\n",
       "      <td>35.484536</td>\n",
       "      <td>11.401858</td>\n",
       "      <td>21.0</td>\n",
       "      <td>27.0</td>\n",
       "      <td>33.0</td>\n",
       "      <td>39.00</td>\n",
       "      <td>74.0</td>\n",
       "    </tr>\n",
       "    <tr>\n",
       "      <th>car</th>\n",
       "      <td>337.0</td>\n",
       "      <td>37.139466</td>\n",
       "      <td>11.649960</td>\n",
       "      <td>20.0</td>\n",
       "      <td>28.0</td>\n",
       "      <td>35.0</td>\n",
       "      <td>43.00</td>\n",
       "      <td>75.0</td>\n",
       "    </tr>\n",
       "    <tr>\n",
       "      <th>domestic appliances</th>\n",
       "      <td>12.0</td>\n",
       "      <td>34.250000</td>\n",
       "      <td>13.376540</td>\n",
       "      <td>22.0</td>\n",
       "      <td>24.0</td>\n",
       "      <td>28.0</td>\n",
       "      <td>39.50</td>\n",
       "      <td>62.0</td>\n",
       "    </tr>\n",
       "    <tr>\n",
       "      <th>education</th>\n",
       "      <td>59.0</td>\n",
       "      <td>38.288136</td>\n",
       "      <td>11.555042</td>\n",
       "      <td>21.0</td>\n",
       "      <td>30.5</td>\n",
       "      <td>36.0</td>\n",
       "      <td>46.50</td>\n",
       "      <td>67.0</td>\n",
       "    </tr>\n",
       "    <tr>\n",
       "      <th>furniture/equipment</th>\n",
       "      <td>181.0</td>\n",
       "      <td>32.458564</td>\n",
       "      <td>9.747632</td>\n",
       "      <td>19.0</td>\n",
       "      <td>25.0</td>\n",
       "      <td>30.0</td>\n",
       "      <td>39.00</td>\n",
       "      <td>63.0</td>\n",
       "    </tr>\n",
       "    <tr>\n",
       "      <th>radio/TV</th>\n",
       "      <td>280.0</td>\n",
       "      <td>34.700000</td>\n",
       "      <td>11.142736</td>\n",
       "      <td>20.0</td>\n",
       "      <td>26.0</td>\n",
       "      <td>32.0</td>\n",
       "      <td>40.25</td>\n",
       "      <td>67.0</td>\n",
       "    </tr>\n",
       "    <tr>\n",
       "      <th>repairs</th>\n",
       "      <td>22.0</td>\n",
       "      <td>38.545455</td>\n",
       "      <td>14.879603</td>\n",
       "      <td>22.0</td>\n",
       "      <td>25.5</td>\n",
       "      <td>33.5</td>\n",
       "      <td>48.00</td>\n",
       "      <td>67.0</td>\n",
       "    </tr>\n",
       "    <tr>\n",
       "      <th>vacation/others</th>\n",
       "      <td>12.0</td>\n",
       "      <td>39.916667</td>\n",
       "      <td>11.325421</td>\n",
       "      <td>27.0</td>\n",
       "      <td>30.5</td>\n",
       "      <td>39.5</td>\n",
       "      <td>45.00</td>\n",
       "      <td>60.0</td>\n",
       "    </tr>\n",
       "  </tbody>\n",
       "</table>\n",
       "</div>"
      ],
      "text/plain": [
       "                     count       mean        std   min   25%   50%    75%  \\\n",
       "Purpose                                                                     \n",
       "business              97.0  35.484536  11.401858  21.0  27.0  33.0  39.00   \n",
       "car                  337.0  37.139466  11.649960  20.0  28.0  35.0  43.00   \n",
       "domestic appliances   12.0  34.250000  13.376540  22.0  24.0  28.0  39.50   \n",
       "education             59.0  38.288136  11.555042  21.0  30.5  36.0  46.50   \n",
       "furniture/equipment  181.0  32.458564   9.747632  19.0  25.0  30.0  39.00   \n",
       "radio/TV             280.0  34.700000  11.142736  20.0  26.0  32.0  40.25   \n",
       "repairs               22.0  38.545455  14.879603  22.0  25.5  33.5  48.00   \n",
       "vacation/others       12.0  39.916667  11.325421  27.0  30.5  39.5  45.00   \n",
       "\n",
       "                      max  \n",
       "Purpose                    \n",
       "business             74.0  \n",
       "car                  75.0  \n",
       "domestic appliances  62.0  \n",
       "education            67.0  \n",
       "furniture/equipment  63.0  \n",
       "radio/TV             67.0  \n",
       "repairs              67.0  \n",
       "vacation/others      60.0  "
      ]
     },
     "execution_count": 20,
     "metadata": {},
     "output_type": "execute_result"
    }
   ],
   "source": [
    "data.groupby('Purpose')['Age'].describe()"
   ]
  },
  {
   "cell_type": "markdown",
   "metadata": {},
   "source": [
    "### Pormedio de todas las variables, por nuestra variable a predecir"
   ]
  },
  {
   "cell_type": "code",
   "execution_count": 21,
   "metadata": {
    "scrolled": true
   },
   "outputs": [
    {
     "data": {
      "text/html": [
       "<div>\n",
       "<style scoped>\n",
       "    .dataframe tbody tr th:only-of-type {\n",
       "        vertical-align: middle;\n",
       "    }\n",
       "\n",
       "    .dataframe tbody tr th {\n",
       "        vertical-align: top;\n",
       "    }\n",
       "\n",
       "    .dataframe thead th {\n",
       "        text-align: right;\n",
       "    }\n",
       "</style>\n",
       "<table border=\"1\" class=\"dataframe\">\n",
       "  <thead>\n",
       "    <tr style=\"text-align: right;\">\n",
       "      <th></th>\n",
       "      <th>Age</th>\n",
       "      <th>Credit_amount</th>\n",
       "      <th>Duration</th>\n",
       "    </tr>\n",
       "    <tr>\n",
       "      <th>Risk</th>\n",
       "      <th></th>\n",
       "      <th></th>\n",
       "      <th></th>\n",
       "    </tr>\n",
       "  </thead>\n",
       "  <tbody>\n",
       "    <tr>\n",
       "      <th>bad</th>\n",
       "      <td>33.963333</td>\n",
       "      <td>3938.126667</td>\n",
       "      <td>24.860000</td>\n",
       "    </tr>\n",
       "    <tr>\n",
       "      <th>good</th>\n",
       "      <td>36.224286</td>\n",
       "      <td>2985.457143</td>\n",
       "      <td>19.207143</td>\n",
       "    </tr>\n",
       "  </tbody>\n",
       "</table>\n",
       "</div>"
      ],
      "text/plain": [
       "            Age  Credit_amount   Duration\n",
       "Risk                                     \n",
       "bad   33.963333    3938.126667  24.860000\n",
       "good  36.224286    2985.457143  19.207143"
      ]
     },
     "execution_count": 21,
     "metadata": {},
     "output_type": "execute_result"
    }
   ],
   "source": [
    "data.groupby('Risk').mean()"
   ]
  },
  {
   "cell_type": "markdown",
   "metadata": {},
   "source": [
    "## 2.C. Analisis de numerica vs numerica"
   ]
  },
  {
   "cell_type": "markdown",
   "metadata": {},
   "source": [
    "### Opc 1: Hay que discretizar una variable (numerica vs categorica)"
   ]
  },
  {
   "cell_type": "markdown",
   "metadata": {},
   "source": [
    "### Opc 2: Se discretiza las dos (categorica vs categorica)"
   ]
  },
  {
   "cell_type": "markdown",
   "metadata": {},
   "source": [
    "![linea 2](https://user-images.githubusercontent.com/19308295/115926262-2fb62980-a448-11eb-8189-c2f10e499944.png)"
   ]
  },
  {
   "cell_type": "markdown",
   "metadata": {},
   "source": [
    "## <font color=#33A5FF>****3. Graficos de Analisis Exploratorio de Datos Bivarido****<tfont>"
   ]
  },
  {
   "cell_type": "markdown",
   "metadata": {},
   "source": [
    "### 3.A. Analisis de numerica vs categorica"
   ]
  },
  {
   "cell_type": "code",
   "execution_count": 22,
   "metadata": {},
   "outputs": [
    {
     "data": {
      "text/plain": [
       "<AxesSubplot:xlabel='Purpose', ylabel='Age'>"
      ]
     },
     "execution_count": 22,
     "metadata": {},
     "output_type": "execute_result"
    },
    {
     "data": {
      "image/png": "[encoded data removed]",
      "text/plain": [
       "<Figure size 432x288 with 1 Axes>"
      ]
     },
     "metadata": {
      "needs_background": "light"
     },
     "output_type": "display_data"
    }
   ],
   "source": [
    "import seaborn as sns\n",
    "sns.boxplot(y = 'Age', x = 'Purpose', data = data)"
   ]
  },
  {
   "cell_type": "markdown",
   "metadata": {},
   "source": [
    "#### Tarea:\n",
    "\n",
    "- Ordenar ascentemente por la mediana\n",
    "- Visulizar bien los label\n",
    "\n",
    "![boxplot 2](data:image/png;base64,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)"
   ]
  },
  {
   "cell_type": "markdown",
   "metadata": {},
   "source": [
    "### Si queremos ver mejor las distribuciones, grafico de violin."
   ]
  },
  {
   "cell_type": "code",
   "execution_count": 23,
   "metadata": {},
   "outputs": [
    {
     "data": {
      "text/plain": [
       "<AxesSubplot:xlabel='Purpose', ylabel='Age'>"
      ]
     },
     "execution_count": 23,
     "metadata": {},
     "output_type": "execute_result"
    },
    {
     "data": {
      "image/png": "[encoded data removed]",
      "text/plain": [
       "<Figure size 432x288 with 1 Axes>"
      ]
     },
     "metadata": {
      "needs_background": "light"
     },
     "output_type": "display_data"
    }
   ],
   "source": [
    "sns.violinplot(y = 'Age', x = 'Purpose', data = data)"
   ]
  },
  {
   "cell_type": "markdown",
   "metadata": {},
   "source": [
    "#### Tarea:\n",
    "\n",
    "- Ordenar ascentemente por la mediana\n",
    "- Visulizar bien los label"
   ]
  },
  {
   "cell_type": "markdown",
   "metadata": {},
   "source": [
    "### 3.B. Analisis de categorica vs categorica"
   ]
  },
  {
   "cell_type": "code",
   "execution_count": 24,
   "metadata": {},
   "outputs": [
    {
     "data": {
      "image/png": "[encoded data removed]",
      "text/plain": [
       "<Figure size 720x360 with 2 Axes>"
      ]
     },
     "metadata": {
      "needs_background": "light"
     },
     "output_type": "display_data"
    }
   ],
   "source": [
    "g = sns.catplot(x='Housing',\n",
    "               col = 'Risk',\n",
    "               data = data,\n",
    "               kind='count')"
   ]
  },
  {
   "cell_type": "markdown",
   "metadata": {},
   "source": [
    "![linea 2](https://user-images.githubusercontent.com/19308295/115926262-2fb62980-a448-11eb-8189-c2f10e499944.png)"
   ]
  },
  {
   "cell_type": "markdown",
   "metadata": {},
   "source": [
    "## <font color=#33A5FF>****BIBLIOGRAFÍA****<tfont>"
   ]
  },
  {
   "cell_type": "markdown",
   "metadata": {},
   "source": [
    "[1] Documentación oficial de `seaborn`: https://seaborn.pydata.org/introduction.html\n",
    "\n",
    "[2] ¿Por qué se carga como sns? https://stackoverflow.com/questions/41499857/seaborn-why-import-as-sns\n",
    "\n",
    "[3] Libro de Ciencia de Datos - librería `funModeling` https://librovivodecienciadedatos.ai/"
   ]
  },
  {
   "cell_type": "markdown",
   "metadata": {},
   "source": [
    "![linea 1](https://user-images.githubusercontent.com/19308295/115926252-2b8a0c00-a448-11eb-9d9c-b43beaf0ff68.png)"
   ]
  }
 ],
 "metadata": {
  "kernelspec": {
   "display_name": "Python 3 (ipykernel)",
   "language": "python",
   "name": "python3"
  },
  "language_info": {
   "codemirror_mode": {
    "name": "ipython",
    "version": 3
   },
   "file_extension": ".py",
   "mimetype": "text/x-python",
   "name": "python",
   "nbconvert_exporter": "python",
   "pygments_lexer": "ipython3",
   "version": "3.9.12"
  }
 },
 "nbformat": 4,
 "nbformat_minor": 4
}
