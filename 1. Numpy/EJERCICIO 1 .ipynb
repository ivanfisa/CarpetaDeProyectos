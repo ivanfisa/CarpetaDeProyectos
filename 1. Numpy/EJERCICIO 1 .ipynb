{
 "cells": [
  {
   "cell_type": "markdown",
   "id": "5b734f23",
   "metadata": {},
   "source": [
    "<center> <h2>Ejercicio 01</h2> </center> "
   ]
  },
  {
   "cell_type": "markdown",
   "id": "64477a6b",
   "metadata": {},
   "source": [
    "* Crear un array 7x8 lleno de ceros de tipo entero.\n",
    "* Crear un array 7x8 lleno de ceros salvo la primera fila que serán todo unos.\n",
    "* Crear un array 7x8 lleno de ceros salvo la última fila que será el rango entre 5 y 8."
   ]
  },
  {
   "cell_type": "markdown",
   "id": "1c29cf43",
   "metadata": {},
   "source": [
    "### 1.1. Crear un array 7x8 lleno de ceros de tipo entero "
   ]
  },
  {
   "cell_type": "code",
   "execution_count": 1,
   "id": "3614e34d",
   "metadata": {},
   "outputs": [
    {
     "name": "stdout",
     "output_type": "stream",
     "text": [
      "[[0 0 0 0 0 0 0 0]\n",
      " [0 0 0 0 0 0 0 0]\n",
      " [0 0 0 0 0 0 0 0]\n",
      " [0 0 0 0 0 0 0 0]\n",
      " [0 0 0 0 0 0 0 0]\n",
      " [0 0 0 0 0 0 0 0]\n",
      " [0 0 0 0 0 0 0 0]]\n",
      "\n",
      "El tipo de ceros son enteros: \n",
      "int64\n"
     ]
    }
   ],
   "source": [
    "import numpy as np \n",
    "\n",
    "a = np.zeros((7,8), dtype=np.int64)\n",
    "print(a)\n",
    "print()\n",
    "print('El tipo de ceros son enteros: ')\n",
    "print(a.dtype)"
   ]
  },
  {
   "cell_type": "markdown",
   "id": "27f883bd",
   "metadata": {},
   "source": [
    "### 1.2. Crear un array 7x8 lleno de ceros salvo la primera fila que seran todos unos"
   ]
  },
  {
   "cell_type": "code",
   "execution_count": 2,
   "id": "6ba36166",
   "metadata": {},
   "outputs": [
    {
     "name": "stdout",
     "output_type": "stream",
     "text": [
      "[[1. 1. 1. 1. 1. 1. 1. 1.]\n",
      " [0. 0. 0. 0. 0. 0. 0. 0.]\n",
      " [0. 0. 0. 0. 0. 0. 0. 0.]\n",
      " [0. 0. 0. 0. 0. 0. 0. 0.]\n",
      " [0. 0. 0. 0. 0. 0. 0. 0.]\n",
      " [0. 0. 0. 0. 0. 0. 0. 0.]\n",
      " [0. 0. 0. 0. 0. 0. 0. 0.]]\n"
     ]
    }
   ],
   "source": [
    "a = np.zeros((7,8))\n",
    "a[0]=[1]\n",
    "print(a)\n",
    "\n",
    "#LINK DE AYUDA: https://www.desarrollo-web-br-bd.com/es/python/modificar-una-fila-columna-particular-de-una-matriz-numpy/1050692629/"
   ]
  },
  {
   "cell_type": "markdown",
   "id": "58496e28",
   "metadata": {},
   "source": [
    "### 1.3. Crear un array 7x8 lleno de ceros salvo la ultima fila que sera el rango entre 5 y 8"
   ]
  },
  {
   "cell_type": "code",
   "execution_count": 3,
   "id": "a525e8eb",
   "metadata": {},
   "outputs": [
    {
     "name": "stdout",
     "output_type": "stream",
     "text": [
      "[[ 0.  0.  0.  0.  0.  0.  0.  0.]\n",
      " [ 0.  0.  0.  0.  0.  0.  0.  0.]\n",
      " [ 0.  0.  0.  0.  0.  0.  0.  0.]\n",
      " [ 0.  0.  0.  0.  0.  0.  0.  0.]\n",
      " [ 0.  0.  0.  0.  0.  0.  0.  0.]\n",
      " [ 0.  0.  0.  0.  0.  0.  0.  0.]\n",
      " [ 5.  6.  7.  8.  9. 10. 11. 12.]]\n"
     ]
    }
   ],
   "source": [
    "b = np.zeros((7,8))\n",
    "b[6] = np.arange(5,13)\n",
    "print(b)\n",
    "\n",
    "#LINK DE AYUDA: https://cocalc.com/share/public_paths/970e563dcd94ae99676d86f768c0df52b7712b9e"
   ]
  },
  {
   "cell_type": "code",
   "execution_count": null,
   "id": "086b34ef",
   "metadata": {},
   "outputs": [],
   "source": []
  }
 ],
 "metadata": {
  "kernelspec": {
   "display_name": "Python 3 (ipykernel)",
   "language": "python",
   "name": "python3"
  },
  "language_info": {
   "codemirror_mode": {
    "name": "ipython",
    "version": 3
   },
   "file_extension": ".py",
   "mimetype": "text/x-python",
   "name": "python",
   "nbconvert_exporter": "python",
   "pygments_lexer": "ipython3",
   "version": "3.9.12"
  }
 },
 "nbformat": 4,
 "nbformat_minor": 5
}
